{
 "cells": [
  {
   "cell_type": "code",
   "execution_count": 13,
   "metadata": {},
   "outputs": [
    {
     "output_type": "stream",
     "name": "stdout",
     "text": [
      "[NbConvertApp] WARNING | Config option `kernel_spec_manager_class` not recognized by `NbConvertApp`.\n",
      "[NbConvertApp] Converting notebook Library.ipynb to script\n",
      "[NbConvertApp] Writing 605 bytes to Library.py\n"
     ]
    }
   ],
   "source": [
    "!jupyter nbconvert  --to script App.ipynb\n",
    "!sed -i -e 1,9d App.py #delete these lines"
   ]
  },
  {
   "cell_type": "code",
   "execution_count": 8,
   "metadata": {},
   "outputs": [
    {
     "output_type": "display_data",
     "data": {
      "text/plain": "'is running on notebook'"
     },
     "metadata": {}
    }
   ],
   "source": [
    "import streamlit as st\n",
    "# try:\n",
    "#     from IPython.display import display\n",
    "#     st.write = display\n",
    "#     st.write('is running on notebook')\n",
    "# except:\n",
    "#     st.write('is running on streamlit')"
   ]
  },
  {
   "cell_type": "code",
   "execution_count": 9,
   "metadata": {},
   "outputs": [],
   "source": [
    "import requests\n",
    "r = requests.get('https://us-central1-dadsofunny.cloudfunctions.net/DadJokes/random/jokes')"
   ]
  },
  {
   "cell_type": "code",
   "execution_count": 10,
   "metadata": {},
   "outputs": [
    {
     "output_type": "display_data",
     "data": {
      "text/plain": "\"Do you want a brief explanation of what an acorn is?\\nIn a nutshell, it's an oak tree.\\n\""
     },
     "metadata": {}
    }
   ],
   "source": [
    "st.write(f'''{r.json()['setup']}\n",
    "{r.json()['punchline']}\n",
    "''')"
   ]
  },
  {
   "cell_type": "code",
   "execution_count": null,
   "metadata": {},
   "outputs": [],
   "source": []
  }
 ],
 "metadata": {
  "kernelspec": {
   "name": "python3",
   "display_name": "Python 3.8.5 64-bit ('base': conda)",
   "metadata": {
    "interpreter": {
     "hash": "b68d3e4a8a27915f37b2d139700eb5283434b77c34d99eaf5ca6582ad00a6ab1"
    }
   }
  },
  "language_info": {
   "codemirror_mode": {
    "name": "ipython",
    "version": 3
   },
   "file_extension": ".py",
   "mimetype": "text/x-python",
   "name": "python",
   "nbconvert_exporter": "python",
   "pygments_lexer": "ipython3",
   "version": "3.8.5-final"
  }
 },
 "nbformat": 4,
 "nbformat_minor": 4
}