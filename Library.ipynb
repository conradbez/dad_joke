{
 "cells": [
  {
   "cell_type": "code",
   "execution_count": 18,
   "metadata": {},
   "outputs": [
    {
     "name": "stdout",
     "output_type": "stream",
     "text": [
      "[NbConvertApp] Converting notebook Library.ipynb to script\n",
      "[NbConvertApp] Writing 495 bytes to Library.py\n"
     ]
    }
   ],
   "source": [
    "!jupyter nbconvert  --to script Library.ipynb\n",
    "!sed -i -e 1,11d Library.py #delete these lines\n",
    "!mv Library.py App/Library.py\n",
    "!cp requirements.txt App/requirements.txt"
   ]
  },
  {
   "cell_type": "code",
   "execution_count": 8,
   "metadata": {},
   "outputs": [
    {
     "data": {
      "text/plain": [
       "'is running on notebook'"
      ]
     },
     "metadata": {},
     "output_type": "display_data"
    }
   ],
   "source": [
    "import streamlit as st\n",
    "try:\n",
    "    from IPython.display import display\n",
    "    st.write = display\n",
    "    st.write('is running on notebook')\n",
    "except:\n",
    "    st.write('is running on streamlit')"
   ]
  },
  {
   "cell_type": "code",
   "execution_count": 3,
   "metadata": {},
   "outputs": [],
   "source": [
    "import requests\n",
    "r = requests.get('https://us-central1-dadsofunny.cloudfunctions.net/DadJokes/random/jokes')"
   ]
  },
  {
   "cell_type": "code",
   "execution_count": 5,
   "metadata": {},
   "outputs": [
    {
     "output_type": "execute_result",
     "data": {
      "text/plain": [
       "{'type': 'general',\n",
       " 'setup': 'Why did the man put his money in the freezer?',\n",
       " 'punchline': 'He wanted cold hard cash!',\n",
       " 'id': 343}"
      ]
     },
     "metadata": {},
     "execution_count": 5
    }
   ],
   "source": [
    "f'''{r.json()['setup']}\n",
    "r.json()['punchline']\n",
    "'''"
   ]
  },
  {
   "cell_type": "code",
   "execution_count": null,
   "metadata": {},
   "outputs": [],
   "source": []
  }
 ],
 "metadata": {
  "kernelspec": {
   "name": "python3",
   "display_name": "Python 3.8.5 64-bit ('base': conda)",
   "metadata": {
    "interpreter": {
     "hash": "b68d3e4a8a27915f37b2d139700eb5283434b77c34d99eaf5ca6582ad00a6ab1"
    }
   }
  },
  "language_info": {
   "codemirror_mode": {
    "name": "ipython",
    "version": 3
   },
   "file_extension": ".py",
   "mimetype": "text/x-python",
   "name": "python",
   "nbconvert_exporter": "python",
   "pygments_lexer": "ipython3",
   "version": "3.8.5-final"
  }
 },
 "nbformat": 4,
 "nbformat_minor": 4
}